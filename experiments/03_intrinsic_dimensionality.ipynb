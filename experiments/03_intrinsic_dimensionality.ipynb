{
 "cells": [
  {
   "cell_type": "code",
   "execution_count": 1,
   "metadata": {},
   "outputs": [],
   "source": [
    "%load_ext autoreload\n",
    "%autoreload\n",
    "from representations_across_sizes.gride import calculate_gride_id, get_sequences\n",
    "import torch\n",
    "\n",
    "sequences_pile = get_sequences(dataset_name=\"pile\")"
   ]
  },
  {
   "cell_type": "code",
   "execution_count": 2,
   "metadata": {},
   "outputs": [
    {
     "data": {
      "text/plain": [
       "10000"
      ]
     },
     "execution_count": 2,
     "metadata": {},
     "output_type": "execute_result"
    }
   ],
   "source": [
    "len(sequences_pile[0])"
   ]
  },
  {
   "cell_type": "code",
   "execution_count": 3,
   "metadata": {},
   "outputs": [],
   "source": [
    "sequences_pile_debug = sequences_pile[0][:100]"
   ]
  },
  {
   "cell_type": "code",
   "execution_count": 4,
   "metadata": {},
   "outputs": [
    {
     "data": {
      "text/plain": [
       "[\"Q: Confluence wiki format put new paragraph I'd like to put empty linespace (<p></p> in HTML) in Confluence wiki result,\",\n",
       " 'but failed whatever I tried. Based on the the document, it said two carriage-return will put <p></p> but \\\\r\\\\r, \\\\n\\\\n,',\n",
       " '\\\\n\\\\n\\\\n\\\\n, etc.trials are not working at all. POST http://wiki.mysite.com/rest/api/content {\"type\":\"page\",\"title\":\"new page1\",\"ancestors\":[{\"id\":390668024}], \"space\":{\"key\":\"EXAMPLE\"},\"body\":{\"storage\":{\"value\":\"[Some link|http://example.com/url] - Show page.\\\\n\\\\nbq. Query by [Some link',\n",
       " 'info|http://example.com/reference?id=214]\",\"representation\":\"wiki\"}}} With above REST request, I\\'d like to show as below format; Some link - Show page. <blank line> Query',\n",
       " 'by Some link info Some trials (between words Show page. and bq. Query by) \\\\n\\\\n => Show page.</p>\\\\n\\\\n<blockquote><p>Query by \\\\\\\\\\\\\\\\']"
      ]
     },
     "execution_count": 4,
     "metadata": {},
     "output_type": "execute_result"
    }
   ],
   "source": [
    "sequences_pile_debug[:5]"
   ]
  },
  {
   "cell_type": "code",
   "execution_count": 5,
   "metadata": {},
   "outputs": [
    {
     "name": "stderr",
     "output_type": "stream",
     "text": [
      "  0%|          | 0/2 [00:00<?, ?it/s]You're using a PreTrainedTokenizerFast tokenizer. Please note that with a fast tokenizer, using the `__call__` method is faster than using a method to encode the text followed by a call to the `pad` method to get a padded encoding.\n",
      "100%|██████████| 2/2 [00:02<00:00,  1.46s/it]\n"
     ]
    }
   ],
   "source": [
    "%autoreload\n",
    "\n",
    "from nnsight import LanguageModel\n",
    "\n",
    "from representations_across_sizes.utils import get_activation_cache\n",
    "\n",
    "model = \"meta-llama/Llama-3.2-1B\"\n",
    "lm = LanguageModel(model, device_map=\"auto\")\n",
    "remote = False\n",
    "\n",
    "activations = get_activation_cache(\n",
    "    lm,\n",
    "    layer_idxs=list(range(len(lm.model.layers))),\n",
    "    dataset=sequences_pile_debug,\n",
    "    llm_batch_size=64,\n",
    ")\n"
   ]
  },
  {
   "cell_type": "code",
   "execution_count": 6,
   "metadata": {},
   "outputs": [
    {
     "data": {
      "text/plain": [
       "{0: [tensor[64, 84, 2048] n=11010048 (42Mb) x∈[-8.735, 23.898] μ=0.002 σ=0.106 cuda:0,\n",
       "  tensor[36, 77, 2048] n=5677056 (22Mb) x∈[-8.735, 23.899] μ=0.002 σ=0.110 cuda:0],\n",
       " 1: [tensor[64, 84, 2048] n=11010048 (42Mb) x∈[-209.596, 217.685] μ=-0.000 σ=1.018 cuda:0,\n",
       "  tensor[36, 77, 2048] n=5677056 (22Mb) x∈[-209.596, 217.684] μ=-0.001 σ=1.063 cuda:0],\n",
       " 2: [tensor[64, 84, 2048] n=11010048 (42Mb) x∈[-209.820, 217.937] μ=0.001 σ=1.021 cuda:0,\n",
       "  tensor[36, 77, 2048] n=5677056 (22Mb) x∈[-209.819, 217.937] μ=0.001 σ=1.065 cuda:0],\n",
       " 3: [tensor[64, 84, 2048] n=11010048 (42Mb) x∈[-209.973, 218.084] μ=0.001 σ=1.022 cuda:0,\n",
       "  tensor[36, 77, 2048] n=5677056 (22Mb) x∈[-209.972, 218.084] μ=0.001 σ=1.067 cuda:0],\n",
       " 4: [tensor[64, 84, 2048] n=11010048 (42Mb) x∈[-210.183, 218.381] μ=5.804e-06 σ=1.023 cuda:0,\n",
       "  tensor[36, 77, 2048] n=5677056 (22Mb) x∈[-210.183, 218.381] μ=-0.000 σ=1.068 cuda:0],\n",
       " 5: [tensor[64, 84, 2048] n=11010048 (42Mb) x∈[-210.460, 218.662] μ=-0.002 σ=1.025 cuda:0,\n",
       "  tensor[36, 77, 2048] n=5677056 (22Mb) x∈[-210.460, 218.662] μ=-0.002 σ=1.070 cuda:0],\n",
       " 6: [tensor[64, 84, 2048] n=11010048 (42Mb) x∈[-210.758, 219.014] μ=-0.001 σ=1.028 cuda:0,\n",
       "  tensor[36, 77, 2048] n=5677056 (22Mb) x∈[-210.758, 219.014] μ=-0.002 σ=1.073 cuda:0],\n",
       " 7: [tensor[64, 84, 2048] n=11010048 (42Mb) x∈[-210.990, 219.445] μ=-0.002 σ=1.031 cuda:0,\n",
       "  tensor[36, 77, 2048] n=5677056 (22Mb) x∈[-210.990, 219.445] μ=-0.002 σ=1.076 cuda:0],\n",
       " 8: [tensor[64, 84, 2048] n=11010048 (42Mb) x∈[-211.192, 219.677] μ=4.106e-05 σ=1.034 cuda:0,\n",
       "  tensor[36, 77, 2048] n=5677056 (22Mb) x∈[-211.192, 219.677] μ=-0.000 σ=1.080 cuda:0],\n",
       " 9: [tensor[64, 84, 2048] n=11010048 (42Mb) x∈[-211.197, 219.832] μ=-0.001 σ=1.040 cuda:0,\n",
       "  tensor[36, 77, 2048] n=5677056 (22Mb) x∈[-211.197, 219.832] μ=-0.001 σ=1.085 cuda:0],\n",
       " 10: [tensor[64, 84, 2048] n=11010048 (42Mb) x∈[-211.149, 219.819] μ=-0.003 σ=1.045 cuda:0,\n",
       "  tensor[36, 77, 2048] n=5677056 (22Mb) x∈[-211.149, 219.818] μ=-0.004 σ=1.091 cuda:0],\n",
       " 11: [tensor[64, 84, 2048] n=11010048 (42Mb) x∈[-211.026, 219.873] μ=-0.004 σ=1.052 cuda:0,\n",
       "  tensor[36, 77, 2048] n=5677056 (22Mb) x∈[-211.026, 219.873] μ=-0.004 σ=1.097 cuda:0],\n",
       " 12: [tensor[64, 84, 2048] n=11010048 (42Mb) x∈[-210.985, 219.835] μ=-0.007 σ=1.060 cuda:0,\n",
       "  tensor[36, 77, 2048] n=5677056 (22Mb) x∈[-210.985, 219.835] μ=-0.007 σ=1.106 cuda:0],\n",
       " 13: [tensor[64, 84, 2048] n=11010048 (42Mb) x∈[-210.906, 219.866] μ=-0.008 σ=1.071 cuda:0,\n",
       "  tensor[36, 77, 2048] n=5677056 (22Mb) x∈[-210.906, 219.866] μ=-0.008 σ=1.117 cuda:0],\n",
       " 14: [tensor[64, 84, 2048] n=11010048 (42Mb) x∈[-213.487, 222.391] μ=-0.007 σ=1.112 cuda:0,\n",
       "  tensor[36, 77, 2048] n=5677056 (22Mb) x∈[-213.487, 222.391] μ=-0.007 σ=1.158 cuda:0],\n",
       " 15: [tensor[64, 84, 2048] n=11010048 (42Mb) x∈[-132.239, 142.650] μ=-0.002 σ=0.970 cuda:0,\n",
       "  tensor[36, 77, 2048] n=5677056 (22Mb) x∈[-132.239, 142.650] μ=-0.003 σ=0.984 cuda:0]}"
      ]
     },
     "execution_count": 6,
     "metadata": {},
     "output_type": "execute_result"
    }
   ],
   "source": [
    "from lovely_tensors import monkey_patch\n",
    "\n",
    "monkey_patch()\n",
    "activations\n"
   ]
  },
  {
   "cell_type": "code",
   "execution_count": 7,
   "metadata": {},
   "outputs": [
    {
     "data": {
      "text/plain": [
       "{0: tensor[100, 2048] n=204800 (0.8Mb) x∈[-0.404, 0.546] μ=0.000 σ=0.037 cuda:0,\n",
       " 1: tensor[100, 2048] n=204800 (0.8Mb) x∈[-0.734, 0.942] μ=0.001 σ=0.052 cuda:0,\n",
       " 2: tensor[100, 2048] n=204800 (0.8Mb) x∈[-0.868, 1.544] μ=0.001 σ=0.069 cuda:0,\n",
       " 3: tensor[100, 2048] n=204800 (0.8Mb) x∈[-1.254, 1.757] μ=0.001 σ=0.081 cuda:0,\n",
       " 4: tensor[100, 2048] n=204800 (0.8Mb) x∈[-1.692, 1.838] μ=0.001 σ=0.091 cuda:0,\n",
       " 5: tensor[100, 2048] n=204800 (0.8Mb) x∈[-1.879, 1.885] μ=0.001 σ=0.097 cuda:0,\n",
       " 6: tensor[100, 2048] n=204800 (0.8Mb) x∈[-2.564, 1.245] μ=0.000 σ=0.102 cuda:0,\n",
       " 7: tensor[100, 2048] n=204800 (0.8Mb) x∈[-3.272, 1.194] μ=-5.794e-06 σ=0.111 cuda:0,\n",
       " 8: tensor[100, 2048] n=204800 (0.8Mb) x∈[-3.292, 1.404] μ=0.000 σ=0.125 cuda:0,\n",
       " 9: tensor[100, 2048] n=204800 (0.8Mb) x∈[-4.083, 1.937] μ=-2.461e-05 σ=0.156 cuda:0,\n",
       " 10: tensor[100, 2048] n=204800 (0.8Mb) x∈[-4.065, 2.164] μ=1.822e-05 σ=0.179 cuda:0,\n",
       " 11: tensor[100, 2048] n=204800 (0.8Mb) x∈[-4.572, 3.065] μ=-0.000 σ=0.221 cuda:0,\n",
       " 12: tensor[100, 2048] n=204800 (0.8Mb) x∈[-5.519, 3.163] μ=-0.002 σ=0.275 cuda:0,\n",
       " 13: tensor[100, 2048] n=204800 (0.8Mb) x∈[-7.485, 3.602] μ=-0.001 σ=0.331 cuda:0,\n",
       " 14: tensor[100, 2048] n=204800 (0.8Mb) x∈[-9.839, 3.820] μ=0.002 σ=0.405 cuda:0,\n",
       " 15: tensor[100, 2048] n=204800 (0.8Mb) x∈[-5.631, 8.792] μ=0.001 σ=0.577 cuda:0}"
      ]
     },
     "execution_count": 7,
     "metadata": {},
     "output_type": "execute_result"
    }
   ],
   "source": [
    "from typing import List\n",
    "from torch import Tensor\n",
    "\n",
    "# get only the last sequence, and cat into one tensor\n",
    "for layer, acts in activations.items():\n",
    "    acts: List[Tensor] = [act[:, -1, :] for act in acts]\n",
    "    activations[layer] = torch.cat(acts, dim=0)\n",
    "\n",
    "activations"
   ]
  },
  {
   "cell_type": "code",
   "execution_count": 8,
   "metadata": {},
   "outputs": [
    {
     "data": {
      "text/plain": [
       "{0: tensor[100, 2048] n=204800 (0.8Mb) x∈[-0.404, 0.546] μ=0.000 σ=0.037 cuda:0,\n",
       " 1: tensor[100, 2048] n=204800 (0.8Mb) x∈[-0.734, 0.942] μ=0.001 σ=0.052 cuda:0,\n",
       " 2: tensor[100, 2048] n=204800 (0.8Mb) x∈[-0.868, 1.544] μ=0.001 σ=0.069 cuda:0,\n",
       " 3: tensor[100, 2048] n=204800 (0.8Mb) x∈[-1.254, 1.757] μ=0.001 σ=0.081 cuda:0,\n",
       " 4: tensor[100, 2048] n=204800 (0.8Mb) x∈[-1.692, 1.838] μ=0.001 σ=0.091 cuda:0,\n",
       " 5: tensor[100, 2048] n=204800 (0.8Mb) x∈[-1.879, 1.885] μ=0.001 σ=0.097 cuda:0,\n",
       " 6: tensor[100, 2048] n=204800 (0.8Mb) x∈[-2.564, 1.245] μ=0.000 σ=0.102 cuda:0,\n",
       " 7: tensor[100, 2048] n=204800 (0.8Mb) x∈[-3.272, 1.194] μ=-5.794e-06 σ=0.111 cuda:0,\n",
       " 8: tensor[100, 2048] n=204800 (0.8Mb) x∈[-3.292, 1.404] μ=0.000 σ=0.125 cuda:0,\n",
       " 9: tensor[100, 2048] n=204800 (0.8Mb) x∈[-4.083, 1.937] μ=-2.461e-05 σ=0.156 cuda:0,\n",
       " 10: tensor[100, 2048] n=204800 (0.8Mb) x∈[-4.065, 2.164] μ=1.822e-05 σ=0.179 cuda:0,\n",
       " 11: tensor[100, 2048] n=204800 (0.8Mb) x∈[-4.572, 3.065] μ=-0.000 σ=0.221 cuda:0,\n",
       " 12: tensor[100, 2048] n=204800 (0.8Mb) x∈[-5.519, 3.163] μ=-0.002 σ=0.275 cuda:0,\n",
       " 13: tensor[100, 2048] n=204800 (0.8Mb) x∈[-7.485, 3.602] μ=-0.001 σ=0.331 cuda:0,\n",
       " 14: tensor[100, 2048] n=204800 (0.8Mb) x∈[-9.839, 3.820] μ=0.002 σ=0.405 cuda:0,\n",
       " 15: tensor[100, 2048] n=204800 (0.8Mb) x∈[-5.631, 8.792] μ=0.001 σ=0.577 cuda:0}"
      ]
     },
     "execution_count": 8,
     "metadata": {},
     "output_type": "execute_result"
    }
   ],
   "source": [
    "activations"
   ]
  },
  {
   "cell_type": "code",
   "execution_count": 13,
   "metadata": {},
   "outputs": [
    {
     "name": "stdout",
     "output_type": "stream",
     "text": [
      "The autoreload extension is already loaded. To reload it, use:\n",
      "  %reload_ext autoreload\n",
      "No identical identical points were found\n",
      "No identical identical points were found\n",
      "No identical identical points were found\n",
      "No identical identical points were found\n",
      "No identical identical points were found\n",
      "No identical identical points were found\n",
      "No identical identical points were found\n",
      "No identical identical points were found\n",
      "No identical identical points were found\n",
      "No identical identical points were found\n",
      "No identical identical points were found\n",
      "No identical identical points were found\n",
      "No identical identical points were found\n",
      "No identical identical points were found\n",
      "No identical identical points were found\n",
      "No identical identical points were found\n"
     ]
    },
    {
     "data": {
      "text/plain": [
       "{0: 12.024991522681434,\n",
       " 1: 17.208158848738353,\n",
       " 2: 17.13428337949576,\n",
       " 3: 20.111532379670702,\n",
       " 4: 22.447636452184554,\n",
       " 5: 21.729029671450263,\n",
       " 6: 21.97781708537546,\n",
       " 7: 21.56356680944658,\n",
       " 8: 20.337681741257896,\n",
       " 9: 18.161590252167105,\n",
       " 10: 17.304295534299047,\n",
       " 11: 16.002456403375138,\n",
       " 12: 15.922735804278956,\n",
       " 13: 15.69171966622447,\n",
       " 14: 15.642085771761748,\n",
       " 15: 13.427757388311699}"
      ]
     },
     "execution_count": 13,
     "metadata": {},
     "output_type": "execute_result"
    }
   ],
   "source": [
    "%load_ext autoreload\n",
    "%autoreload\n",
    "\n",
    "from collections import defaultdict\n",
    "\n",
    "# gride\n",
    "from representations_across_sizes.gride import calculate_gride_id\n",
    "\n",
    "\n",
    "results = {}\n",
    "for layer, acts in activations.items():\n",
    "    ids_scaling, ids_scaling_err, rs_scaling = calculate_gride_id(acts.to(\"cpu\"))\n",
    "    results[layer] = ids_scaling.mean()\n",
    "\n",
    "\n",
    "results\n"
   ]
  },
  {
   "cell_type": "code",
   "execution_count": 14,
   "metadata": {},
   "outputs": [
    {
     "data": {
      "text/plain": [
       "12.024991522681434"
      ]
     },
     "execution_count": 14,
     "metadata": {},
     "output_type": "execute_result"
    }
   ],
   "source": [
    "results[0].mean()"
   ]
  },
  {
   "cell_type": "code",
   "execution_count": 16,
   "metadata": {},
   "outputs": [
    {
     "data": {
      "text/plain": [
       "{0: 12.024991522681434,\n",
       " 1: 17.208158848738353,\n",
       " 2: 17.13428337949576,\n",
       " 3: 20.111532379670702,\n",
       " 4: 22.447636452184554,\n",
       " 5: 21.729029671450263,\n",
       " 6: 21.97781708537546,\n",
       " 7: 21.56356680944658,\n",
       " 8: 20.337681741257896,\n",
       " 9: 18.161590252167105,\n",
       " 10: 17.304295534299047,\n",
       " 11: 16.002456403375138,\n",
       " 12: 15.922735804278956,\n",
       " 13: 15.69171966622447,\n",
       " 14: 15.642085771761748,\n",
       " 15: 13.427757388311699}"
      ]
     },
     "execution_count": 16,
     "metadata": {},
     "output_type": "execute_result"
    }
   ],
   "source": [
    "ids"
   ]
  },
  {
   "cell_type": "code",
   "execution_count": 17,
   "metadata": {},
   "outputs": [
    {
     "data": {
      "image/png": "[encoded data removed]",
      "text/plain": [
       "<Figure size 800x600 with 1 Axes>"
      ]
     },
     "metadata": {},
     "output_type": "display_data"
    }
   ],
   "source": [
    "import numpy as np\n",
    "import matplotlib.pyplot as plt\n",
    "import seaborn as sns\n",
    "\n",
    "# Set style\n",
    "sns.set_context(\"talk\")\n",
    "ids = np.array([v for v in results.values()])\n",
    "\n",
    "# Create the plot\n",
    "plt.figure(figsize=(8, 6))\n",
    "plt.plot(\n",
    "    ids, marker=\"o\", label=\"llama\", color=\"#1f77b4\"\n",
    ")  # Using the same blue as in reference\n",
    "\n",
    "# Customize the plot\n",
    "plt.title(\"Average ID over Layers\")\n",
    "plt.xlabel(\"layer\")\n",
    "plt.ylabel(\"intrinsic dimension\")\n",
    "\n",
    "# Add grid\n",
    "plt.grid(True, alpha=0.3)\n",
    "\n",
    "# Set y-axis limits similar to reference plot\n",
    "plt.ylim(5, 45)\n",
    "\n",
    "# Add legend\n",
    "plt.legend()\n",
    "\n",
    "# Show plot\n",
    "plt.tight_layout()\n",
    "plt.show()\n"
   ]
  },
  {
   "cell_type": "markdown",
   "metadata": {},
   "source": [
    "# for many models over all partitions"
   ]
  },
  {
   "cell_type": "code",
   "execution_count": null,
   "metadata": {},
   "outputs": [],
   "source": [
    "from pathlib import Path\n",
    "import json\n",
    "import os\n",
    "import dotenv\n",
    "\n",
    "dotenv.load_dotenv()\n",
    "RESULTS_DIR = Path(os.getenv(\"RESULTS_DIR\"))\n",
    "\n",
    "\n",
    "def get_id_results(dataset: List[str], model_name: str = \"meta-llama/Llama-3.2-1B\"):\n",
    "    lm = LanguageModel(model, device_map=\"auto\")\n",
    "\n",
    "    activations = get_activation_cache(\n",
    "        lm,\n",
    "        layer_idxs=list(range(len(lm.model.layers))),\n",
    "        dataset=dataset,\n",
    "        llm_batch_size=64,\n",
    "    )\n",
    "    results = {}\n",
    "    for layer, acts in activations.items():\n",
    "        acts: List[Tensor] = [act[:, -1, :] for act in acts]\n",
    "        activations[layer] = torch.cat(acts, dim=0)\n",
    "        ids_scaling, ids_scaling_err, rs_scaling = calculate_gride_id(acts.to(\"cpu\"))\n",
    "        results[layer] = ids_scaling.mean()\n",
    "\n",
    "    # Save results if path provided\n",
    "    save_path = RESULTS_DIR / f\"{model_name}.json\"\n",
    "    save_path.parent.mkdir(parents=True, exist_ok=True)\n",
    "\n",
    "    # Save results with model name and timestamp\n",
    "    from datetime import datetime\n",
    "\n",
    "    timestamp = datetime.now().strftime(\"%Y%m%d_%H%M%S\")\n",
    "    results_to_save = {\n",
    "        \"model\": model_name,\n",
    "        \"timestamp\": timestamp,\n",
    "        \"intrinsic_dimensions\": results,\n",
    "    }\n",
    "\n",
    "    with open(save_path, \"w\") as f:\n",
    "        json.dump(results_to_save, f, indent=2)\n",
    "    return results"
   ]
  },
  {
   "cell_type": "code",
   "execution_count": null,
   "metadata": {},
   "outputs": [],
   "source": [
    "import numpy as np\n",
    "\n",
    "# use all partitions\n",
    "sequences_pile = get_sequences(dataset_name=\"pile\")\n",
    "\n",
    "# Store IDs for each partition\n",
    "all_partition_ids = []\n",
    "\n",
    "for partition in sequences_pile:\n",
    "    print(f\"Processing partition {len(all_partition_ids) + 1}/5\")\n",
    "\n",
    "    # Get activations for this partition\n",
    "    activations = get_activation_cache(\n",
    "        lm,\n",
    "        layer_idxs=list(range(len(lm.model.layers))),\n",
    "        dataset=partition,\n",
    "        llm_batch_size=64,\n",
    "    )\n",
    "\n",
    "    # Get only the last sequence token and calculate IDs\n",
    "    for layer, acts in activations.items():\n",
    "        acts = [act[:, -1, :] for act in acts]\n",
    "        activations[layer] = torch.cat(acts, dim=0)\n",
    "\n",
    "    # Calculate IDs for this partition\n",
    "    partition_ids = [\n",
    "        float(calculate_gride_id(activations[layer].to(\"cpu\")))\n",
    "        for layer in activations.keys()\n",
    "    ]\n",
    "    all_partition_ids.append(partition_ids)\n",
    "    print(partition_ids)\n",
    "\n",
    "# Convert to numpy for easier calculations\n",
    "all_partition_ids = np.array(all_partition_ids)\n",
    "\n",
    "# Calculate mean and std across partitions\n",
    "mean_ids = np.mean(all_partition_ids, axis=0)\n",
    "std_ids = np.std(all_partition_ids, axis=0)\n"
   ]
  },
  {
   "cell_type": "code",
   "execution_count": null,
   "metadata": {},
   "outputs": [],
   "source": [
    "all_partition_ids[0]"
   ]
  },
  {
   "cell_type": "code",
   "execution_count": null,
   "metadata": {},
   "outputs": [],
   "source": [
    "all_partition_ids[1]"
   ]
  },
  {
   "cell_type": "code",
   "execution_count": null,
   "metadata": {},
   "outputs": [],
   "source": [
    "all_partition_ids[2]"
   ]
  },
  {
   "cell_type": "code",
   "execution_count": null,
   "metadata": {},
   "outputs": [],
   "source": [
    "all_partition_ids[3]"
   ]
  },
  {
   "cell_type": "code",
   "execution_count": null,
   "metadata": {},
   "outputs": [],
   "source": [
    "all_partition_ids[4]\n"
   ]
  },
  {
   "cell_type": "code",
   "execution_count": null,
   "metadata": {},
   "outputs": [],
   "source": []
  },
  {
   "cell_type": "code",
   "execution_count": null,
   "metadata": {},
   "outputs": [],
   "source": [
    "# Plot with error bars\n",
    "plt.figure(figsize=(8, 6))\n",
    "plt.errorbar(\n",
    "    range(len(mean_ids)),\n",
    "    mean_ids,\n",
    "    yerr=2 * std_ids,  # 2 standard deviations like in paper\n",
    "    fmt=\"o-\",\n",
    "    label=\"llama\",\n",
    "    color=\"#1f77b4\",\n",
    "    capsize=3,\n",
    "    markersize=4,\n",
    "    linewidth=1,\n",
    "    elinewidth=1,\n",
    ")\n",
    "\n",
    "# Customize the plot\n",
    "plt.title(\"Average ID over Layers\")\n",
    "plt.xlabel(\"layer\")\n",
    "plt.ylabel(\"intrinsic dimension\")\n",
    "\n",
    "# Add grid\n",
    "plt.grid(True, alpha=0.3)\n",
    "\n",
    "# Set y-axis limits similar to reference plot\n",
    "plt.ylim(5, 45)\n",
    "\n",
    "# Add legend\n",
    "plt.legend()\n",
    "\n",
    "# Show plot\n",
    "plt.tight_layout()\n",
    "plt.show()"
   ]
  },
  {
   "cell_type": "markdown",
   "metadata": {},
   "source": []
  }
 ],
 "metadata": {
  "kernelspec": {
   "display_name": ".venv",
   "language": "python",
   "name": "python3"
  },
  "language_info": {
   "codemirror_mode": {
    "name": "ipython",
    "version": 3
   },
   "file_extension": ".py",
   "mimetype": "text/x-python",
   "name": "python",
   "nbconvert_exporter": "python",
   "pygments_lexer": "ipython3",
   "version": "3.12.2"
  }
 },
 "nbformat": 4,
 "nbformat_minor": 2
}
